{
  "nbformat": 4,
  "nbformat_minor": 0,
  "metadata": {
    "colab": {
      "name": "Untitled6.ipynb",
      "provenance": [],
      "authorship_tag": "ABX9TyPO73fmjGdb6c8pA9W2Xwnx"
    },
    "kernelspec": {
      "name": "python3",
      "display_name": "Python 3"
    },
    "language_info": {
      "name": "python"
    }
  },
  "cells": [
    {
      "cell_type": "code",
      "execution_count": 8,
      "metadata": {
        "id": "vA3br3AwPNwV"
      },
      "outputs": [],
      "source": [
        "# import libraries \n",
        "\n",
        "from bs4 import BeautifulSoup\n",
        "import requests\n",
        "import time\n",
        "import datetime\n",
        "import smtplib\n",
        "import datetime\n",
        "import pandas as pd"
      ]
    },
    {
      "cell_type": "code",
      "source": [
        "# Connect to required website and specify the headers\n",
        "\n",
        "URL = 'https://www.amazon.ca/Queen-70-Glorious-Years/dp/1909741825/ref=zg_bsnr_933484_2?_encoding=UTF8&psc=1&refRID=FZSB4GWKGTZBP9FZYMEV'\n",
        "\n",
        "headers = {\"User-Agent\": \"Mozilla/5.0 (Windows NT 10.0; Win64; x64; rv:96.0) Gecko/20100101 Firefox/96.0\", \"Accept-Encoding\":\"gzip, deflate, br\", \"Accept\":\"text/html,application/xhtml+xml,application/xml;q=0.9,image/avif,image/webp,*/*;q=0.8\", \"DNT\":\"1\",\"Connection\":\"close\", \"Upgrade-Insecure-Requests\":\"1\"}"
      ],
      "metadata": {
        "id": "aEpKk3wQQB_-"
      },
      "execution_count": 2,
      "outputs": []
    },
    {
      "cell_type": "code",
      "source": [
        "#Create elements required for web scraping\n",
        "\n",
        "page = requests.get(URL, headers=headers)\n",
        "\n",
        "soup1 = BeautifulSoup(page.content, \"html.parser\")\n",
        "\n",
        "soup2 = BeautifulSoup(soup1.prettify(), \"html.parser\")\n",
        "\n",
        "#Title of the product\n",
        "title = soup2.find(id='productTitle').get_text()\n",
        "\n",
        "#Price of the product\n",
        "price = soup2.find(id='price').get_text()\n",
        "\n",
        "#Print the title and price\n",
        "print(title)\n",
        "print(price)"
      ],
      "metadata": {
        "colab": {
          "base_uri": "https://localhost:8080/"
        },
        "id": "sDoJV4ETQQ4O",
        "outputId": "e72a55e1-7e28-46ef-c8e5-15281142f556"
      },
      "execution_count": 3,
      "outputs": [
        {
          "output_type": "stream",
          "name": "stdout",
          "text": [
            "\n",
            "     The Queen: 70 Glorious Years\n",
            "    \n",
            "\n",
            "                          $31.30\n",
            "                         \n"
          ]
        }
      ]
    },
    {
      "cell_type": "code",
      "source": [
        "# Clean up the data to remove spaces\n",
        "price = price.strip()[1:]\n",
        "title = title.strip()\n",
        "\n",
        "print(title)\n",
        "print(price)"
      ],
      "metadata": {
        "colab": {
          "base_uri": "https://localhost:8080/"
        },
        "id": "6Z_WrwXeQnBW",
        "outputId": "a528b54b-e34d-41c1-feab-907d9cd2c150"
      },
      "execution_count": 4,
      "outputs": [
        {
          "output_type": "stream",
          "name": "stdout",
          "text": [
            "The Queen: 70 Glorious Years\n",
            "31.30\n"
          ]
        }
      ]
    },
    {
      "cell_type": "code",
      "source": [
        "#Timestamp\n",
        "today = datetime.date.today()\n",
        "\n",
        "print(today)"
      ],
      "metadata": {
        "colab": {
          "base_uri": "https://localhost:8080/"
        },
        "id": "KJ2ipCmzQr7F",
        "outputId": "801afaa3-5006-40d5-dbbd-9819d3566dd9"
      },
      "execution_count": 6,
      "outputs": [
        {
          "output_type": "stream",
          "name": "stdout",
          "text": [
            "2022-01-17\n"
          ]
        }
      ]
    },
    {
      "cell_type": "code",
      "source": [
        "# Create CSV and write headers and data into the file\n",
        "\n",
        "import csv \n",
        "\n",
        "header = ['Title', 'Price', 'Date']\n",
        "data = [title, price, today]\n",
        "\n",
        "with open('DatasetAmazon.csv', 'w', newline='', encoding='UTF8') as f:\n",
        "    writer = csv.writer(f)\n",
        "    writer.writerow(header)\n",
        "    writer.writerow(data)"
      ],
      "metadata": {
        "id": "WAALC_e6QzX1"
      },
      "execution_count": 7,
      "outputs": []
    },
    {
      "cell_type": "code",
      "source": [
        "#Display the contents of the csv\n",
        "\n",
        "df = pd.read_csv(r'DatasetAmazon.csv')\n",
        "\n",
        "print(df)"
      ],
      "metadata": {
        "colab": {
          "base_uri": "https://localhost:8080/"
        },
        "id": "-OoWN1ASRAPl",
        "outputId": "ba4b4fa6-b114-40e6-a8cd-cc10fe70481b"
      },
      "execution_count": 10,
      "outputs": [
        {
          "output_type": "stream",
          "name": "stdout",
          "text": [
            "                          Title  Price        Date\n",
            "0  The Queen: 70 Glorious Years   31.3  2022-01-17\n"
          ]
        }
      ]
    },
    {
      "cell_type": "code",
      "source": [
        ""
      ],
      "metadata": {
        "id": "ymgJVrZKTxSM"
      },
      "execution_count": null,
      "outputs": []
    },
    {
      "cell_type": "code",
      "source": [
        "#Updating the contents of the csv\n",
        "with open('DatasetAmazon.csv', 'a+', newline='', encoding='UTF8') as f:\n",
        "    writer = csv.writer(f)\n",
        "    writer.writerow(data)"
      ],
      "metadata": {
        "id": "Bvhpbal7RarQ"
      },
      "execution_count": 11,
      "outputs": []
    },
    {
      "cell_type": "code",
      "source": [
        "#Create a function to perform to check price of a product\n",
        "\n",
        "def check_price():\n",
        "\n",
        "    #Setting up the prodcut url for which price needs to be checked\n",
        "    URL = 'https://www.amazon.ca/Queen-70-Glorious-Years/dp/1909741825/ref=zg_bsnr_933484_2?_encoding=UTF8&psc=1&refRID=FZSB4GWKGTZBP9FZYMEV'\n",
        "\n",
        "    headers = {\"User-Agent\": \"Mozilla/5.0 (Windows NT 10.0; Win64; x64; rv:96.0) Gecko/20100101 Firefox/96.0\", \"Accept-Encoding\":\"gzip, deflate, br\", \"Accept\":\"text/html,application/xhtml+xml,application/xml;q=0.9,image/avif,image/webp,*/*;q=0.8\", \"DNT\":\"1\",\"Connection\":\"close\", \"Upgrade-Insecure-Requests\":\"1\"}\n",
        "    \n",
        "    page = requests.get(URL, headers=headers)\n",
        "\n",
        "    #Creating soup objects\n",
        "    soup1 = BeautifulSoup(page.content, \"html.parser\")\n",
        "\n",
        "    soup2 = BeautifulSoup(soup1.prettify(), \"html.parser\")\n",
        "\n",
        "    #Title and price data obtained\n",
        "    title = soup2.find(id='productTitle').get_text()\n",
        "\n",
        "    price = soup2.find(id='price').get_text()\n",
        "\n",
        "    #Clean the data\n",
        "    price = price.strip()[1:]\n",
        "    title = title.strip()\n",
        "    today = datetime.date.today()\n",
        "\n",
        "    #Specify column names for the csv file\n",
        "    header = ['Title', 'Price', 'Date']\n",
        "    data = [title, price, today]\n",
        "\n",
        "    #Update the contents of the file\n",
        "    with open('DatasetAmazon.csv', 'a+', newline='', encoding='UTF8') as f:\n",
        "        writer = csv.writer(f)\n",
        "        writer.writerow(data)"
      ],
      "metadata": {
        "id": "DW_W7KnwRhR1"
      },
      "execution_count": 12,
      "outputs": []
    },
    {
      "cell_type": "code",
      "execution_count": 13,
      "metadata": {
        "id": "d14fce5f"
      },
      "outputs": [],
      "source": [
        "# Function to send a mail alert for changes in price\n",
        "\n",
        "def send_mail():\n",
        "    server = smtplib.SMTP_SSL('smtp.gmail.com',465)\n",
        "    server.ehlo()\n",
        "    server.starttls()\n",
        "    server.ehlo()\n",
        "    server.login('abc@gmail.com','xxxxxxxxxxxxxx')\n",
        "    \n",
        "    subject = \"The price of the product X is below the required price Y\"\n",
        "    body = f\"OP, the price of the product you want has reduced. Please refer the following link to make a decision regarding the purchase:{URL}\"\n",
        "   \n",
        "    msg = f\"Subject: {subject}\\n\\n{body}\"\n",
        "    \n",
        "    server.sendmail('abc@gmail.com',msg)"
      ]
    },
    {
      "cell_type": "code",
      "source": [
        "#Check price regularly\n",
        "\n",
        "while(True):\n",
        "    check_price()\n",
        "    time.sleep(86400)\n",
        "\n",
        "    if price < 15:\n",
        "      send_mail()"
      ],
      "metadata": {
        "id": "JPxziC0lT9ar"
      },
      "execution_count": null,
      "outputs": []
    }
  ]
}